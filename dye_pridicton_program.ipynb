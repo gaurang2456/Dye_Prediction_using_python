{
  "nbformat": 4,
  "nbformat_minor": 0,
  "metadata": {
    "colab": {
      "provenance": [],
      "mount_file_id": "1PXOMb_oqvI1Y9Iv_97fI0vb85mw_V4Po",
      "authorship_tag": "ABX9TyMAlaCC9ggeZTUneGq5KwGG",
      "include_colab_link": true
    },
    "kernelspec": {
      "name": "python3",
      "display_name": "Python 3"
    },
    "language_info": {
      "name": "python"
    }
  },
  "cells": [
    {
      "cell_type": "markdown",
      "metadata": {
        "id": "view-in-github",
        "colab_type": "text"
      },
      "source": [
        "<a href=\"https://colab.research.google.com/github/gaurang2456/Dye_Prediction_using_python/blob/main/dye_pridicton_program.ipynb\" target=\"_parent\"><img src=\"https://colab.research.google.com/assets/colab-badge.svg\" alt=\"Open In Colab\"/></a>"
      ]
    },
    {
      "cell_type": "code",
      "execution_count": null,
      "metadata": {
        "id": "UfI8J1HwpVKh",
        "colab": {
          "base_uri": "https://localhost:8080/"
        },
        "outputId": "432fec0c-f730-43c7-a666-34f709479d52"
      },
      "outputs": [
        {
          "output_type": "stream",
          "name": "stdout",
          "text": [
            "Enter fabric name (Cotton, Wool, Silk, Polyester, Hemp, Viscose): Hemp\n",
            "Most suitable dye for Hemp is Natural Dye with suitability score of 8.429\n"
          ]
        }
      ],
      "source": [
        "import pandas as pd\n",
        "fabric_name = input(\"Enter fabric name (Cotton, Wool, Silk, Polyester, Hemp, Viscose): \")\n",
        "x = pd.read_excel(\"/content/drive/MyDrive/Colab Notebooks/dye_prediction_data.xlsx\")\n",
        "\n",
        "\n",
        "def most_suitable_dye(fabric):\n",
        "  if fabric not in x[\"Fabric\"].values:\n",
        "        return \" Fabric not found.(Enter any of : Cotton, Wool, Polyester, Hemp, Viscose)\"\n",
        "\n",
        "  your_fabric =x[x[\"Fabric\"]== fabric].copy()\n",
        "\n",
        "  your_fabric[\"Cumulative_Score\"] = (\n",
        "        (your_fabric[\"Dye Effectiveness\"]) + (your_fabric[\"Dye Affinity\"]) +\n",
        "        (your_fabric[\"Fastness\"]) + (your_fabric[\"Eco-Friendliness\"]) +\n",
        "        (your_fabric[\"Cost Effectiveness\"]) +(your_fabric[\"Sustainability\"]) +\n",
        "        (your_fabric[\"Industrial Scalability\"])\n",
        "    )\n",
        "  best_dye_row = your_fabric.loc[your_fabric[\"Cumulative_Score\"].idxmax()]\n",
        "  num_parameters = len(x.columns)-3\n",
        "  Score = best_dye_row[\"Cumulative_Score\"]/num_parameters\n",
        "\n",
        "  return f\"Most suitable dye for {fabric} is {best_dye_row['Dye']} with suitability score of {round(Score,3)}\"\n",
        "\n",
        "\n",
        "\n",
        "\n",
        "print(most_suitable_dye(fabric_name))"
      ]
    }
  ]
}